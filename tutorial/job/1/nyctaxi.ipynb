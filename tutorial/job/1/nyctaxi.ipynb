{
 "cells": [
  {
   "cell_type": "code",
   "execution_count": null,
   "metadata": {
    "ExecuteTime": {
     "end_time": "2019-05-21T02:14:02.597860Z",
     "start_time": "2019-05-21T02:14:00.889Z"
    }
   },
   "outputs": [],
   "source": [
    "%env ETL_CONF_BASE_URL=/home/jovyan/tutorial"
   ]
  },
  {
   "cell_type": "code",
   "execution_count": null,
   "metadata": {
    "ExecuteTime": {
     "end_time": "2019-05-21T02:14:10.854692Z",
     "start_time": "2019-05-21T02:14:01.158Z"
    }
   },
   "outputs": [],
   "source": [
    "{\n",
    "  \"type\": \"DelimitedExtract\",\n",
    "  \"name\": \"extract data from green_tripdata/0\",\n",
    "  \"environments\": [\"production\", \"test\"],\n",
    "  \"inputURI\": ${ETL_CONF_BASE_URL}\"/data/green_tripdata/0/*.csv\",\n",
    "  \"outputView\": \"green_tripdata0_raw\",            \n",
    "  \"delimiter\": \"Comma\",\n",
    "  \"quote\": \"DoubleQuote\",\n",
    "  \"header\": true\n",
    "}"
   ]
  },
  {
   "cell_type": "code",
   "execution_count": null,
   "metadata": {
    "ExecuteTime": {
     "end_time": "2019-05-21T02:14:13.420837Z",
     "start_time": "2019-05-21T02:14:01.429Z"
    }
   },
   "outputs": [],
   "source": [
    "{\n",
    "  \"type\": \"TypingTransform\",\n",
    "  \"name\": \"apply green_tripdata/0 data types\",\n",
    "  \"environments\": [\"production\", \"test\"],\n",
    "  \"inputURI\": ${ETL_CONF_BASE_URL}\"/meta/green_tripdata/0/green_tripdata.json\",\n",
    "  \"inputView\": \"green_tripdata0_raw\",            \n",
    "  \"outputView\": \"green_tripdata0\"       \n",
    "}"
   ]
  },
  {
   "cell_type": "code",
   "execution_count": null,
   "metadata": {
    "ExecuteTime": {
     "end_time": "2019-05-21T02:14:20.818738Z",
     "start_time": "2019-05-21T02:14:02.565Z"
    }
   },
   "outputs": [],
   "source": [
    "{\n",
    "  \"type\": \"SQLValidate\",\n",
    "  \"name\": \"ensure no errors exist after data typing\",\n",
    "  \"environments\": [\"production\", \"test\"],\n",
    "  \"inputURI\": ${ETL_CONF_BASE_URL}\"/job/1/sqlvalidate_errors.sql\",            \n",
    "  \"sqlParams\": {\n",
    "      \"table_name\": \"green_tripdata0\"\n",
    "  }\n",
    "}"
   ]
  },
  {
   "cell_type": "code",
   "execution_count": null,
   "metadata": {
    "ExecuteTime": {
     "end_time": "2019-05-21T02:17:39.843687Z",
     "start_time": "2019-05-21T02:15:17.956Z"
    }
   },
   "outputs": [],
   "source": [
    "{\n",
    "  \"type\": \"DelimitedExtract\",\n",
    "  \"name\": \"extract data from green_tripdata/1\",\n",
    "  \"environments\": [\"production\", \"test\"],\n",
    "  \"inputURI\": ${ETL_CONF_BASE_URL}\"/data/green_tripdata/1/*.csv\",\n",
    "  \"outputView\": \"green_tripdata1_raw\",            \n",
    "  \"delimiter\": \"Comma\",\n",
    "  \"quote\": \"DoubleQuote\",\n",
    "  \"header\": true\n",
    "}"
   ]
  },
  {
   "cell_type": "code",
   "execution_count": null,
   "metadata": {
    "ExecuteTime": {
     "end_time": "2019-05-21T02:17:50.837046Z",
     "start_time": "2019-05-21T02:15:32.669Z"
    }
   },
   "outputs": [],
   "source": [
    "{\n",
    "  \"type\": \"TypingTransform\",\n",
    "  \"name\": \"apply green_tripdata/1 data types\",\n",
    "  \"environments\": [\"production\", \"test\"],\n",
    "  \"inputURI\": ${ETL_CONF_BASE_URL}\"/meta/green_tripdata/1/green_tripdata.json\",\n",
    "  \"inputView\": \"green_tripdata1_raw\",            \n",
    "  \"outputView\": \"green_tripdata1\"       \n",
    "}"
   ]
  },
  {
   "cell_type": "code",
   "execution_count": null,
   "metadata": {
    "ExecuteTime": {
     "end_time": "2019-05-21T02:19:09.335495Z",
     "start_time": "2019-05-21T02:17:55.417Z"
    }
   },
   "outputs": [],
   "source": [
    "{\n",
    "  \"type\": \"SQLValidate\",\n",
    "  \"name\": \"ensure no errors exist after data typing\",\n",
    "  \"environments\": [\"production\", \"test\"],\n",
    "  \"inputURI\": ${ETL_CONF_BASE_URL}\"/job/1/sqlvalidate_errors.sql\",            \n",
    "  \"sqlParams\": {\n",
    "      \"table_name\": \"green_tripdata1\"\n",
    "  }\n",
    "}"
   ]
  },
  {
   "cell_type": "code",
   "execution_count": null,
   "metadata": {
    "ExecuteTime": {
     "end_time": "2019-05-21T02:19:24.661776Z",
     "start_time": "2019-05-21T02:19:17.470Z"
    }
   },
   "outputs": [],
   "source": [
    "{\n",
    "  \"type\": \"DelimitedExtract\",\n",
    "  \"name\": \"extract data from green_tripdata/2\",\n",
    "  \"environments\": [\"production\", \"test\"],\n",
    "  \"inputURI\": ${ETL_CONF_BASE_URL}\"/data/green_tripdata/2/*.csv\",\n",
    "  \"outputView\": \"green_tripdata2_raw\",            \n",
    "  \"delimiter\": \"Comma\",\n",
    "  \"quote\": \"DoubleQuote\",\n",
    "  \"header\": true\n",
    "}"
   ]
  },
  {
   "cell_type": "code",
   "execution_count": null,
   "metadata": {
    "ExecuteTime": {
     "end_time": "2019-05-21T02:19:31.793997Z",
     "start_time": "2019-05-21T02:19:17.979Z"
    }
   },
   "outputs": [],
   "source": [
    "{\n",
    "  \"type\": \"TypingTransform\",\n",
    "  \"name\": \"apply green_tripdata/2 data types\",\n",
    "  \"environments\": [\"production\", \"test\"],\n",
    "  \"inputURI\": ${ETL_CONF_BASE_URL}\"/meta/green_tripdata/2/green_tripdata.json\",\n",
    "  \"inputView\": \"green_tripdata2_raw\",            \n",
    "  \"outputView\": \"green_tripdata2\"       \n",
    "}"
   ]
  },
  {
   "cell_type": "code",
   "execution_count": null,
   "metadata": {
    "ExecuteTime": {
     "end_time": "2019-05-21T02:20:25.913434Z",
     "start_time": "2019-05-21T02:19:18.395Z"
    }
   },
   "outputs": [],
   "source": [
    "{\n",
    "  \"type\": \"SQLValidate\",\n",
    "  \"name\": \"ensure no errors exist after data typing\",\n",
    "  \"environments\": [\"production\", \"test\"],\n",
    "  \"inputURI\": ${ETL_CONF_BASE_URL}\"/job/1/sqlvalidate_errors.sql\",            \n",
    "  \"sqlParams\": {\n",
    "      \"table_name\": \"green_tripdata2\"\n",
    "  }\n",
    "}"
   ]
  },
  {
   "cell_type": "code",
   "execution_count": null,
   "metadata": {
    "ExecuteTime": {
     "end_time": "2019-05-21T02:23:30.096978Z",
     "start_time": "2019-05-21T02:23:15.542Z"
    }
   },
   "outputs": [],
   "source": [
    "{\n",
    "  \"type\": \"SQLTransform\",\n",
    "  \"name\": \"merge green_tripdata_* to create a full trips\",\n",
    "  \"environments\": [\"production\", \"test\"],\n",
    "  \"inputURI\": ${ETL_CONF_BASE_URL}\"/job/1/trips.sql\",\n",
    "  \"outputView\": \"trips\",            \n",
    "  \"persist\": false\n",
    "}"
   ]
  }
 ],
 "metadata": {
  "kernelspec": {
   "display_name": "Arc",
   "language": "scala",
   "name": "arc"
  },
  "language_info": {
   "file_extension": "arc",
   "mimetype": "text/arc",
   "name": "arc",
   "nbconvert_exporter": "text",
   "version": "1.0"
  }
 },
 "nbformat": 4,
 "nbformat_minor": 2
}
