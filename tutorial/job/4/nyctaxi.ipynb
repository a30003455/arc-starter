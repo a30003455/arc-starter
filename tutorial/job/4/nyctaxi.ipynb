{
 "cells": [
  {
   "cell_type": "code",
   "execution_count": null,
   "metadata": {},
   "outputs": [],
   "source": [
    "%env ETL_CONF_BASE_URL=/home/jovyan/tutorial"
   ]
  },
  {
   "cell_type": "code",
   "execution_count": null,
   "metadata": {},
   "outputs": [],
   "source": [
    "{\n",
    "  \"type\": \"DelimitedExtract\",\n",
    "  \"name\": \"extract data from green_tripdata/0\",\n",
    "  \"environments\": [\"production\", \"test\"],\n",
    "  \"inputURI\": ${ETL_CONF_BASE_URL}\"/data/green_tripdata/0/*\",\n",
    "  \"outputView\": \"green_tripdata0_raw\",            \n",
    "  \"delimiter\": \"Comma\",\n",
    "  \"quote\": \"DoubleQuote\",\n",
    "  \"header\": true\n",
    "}"
   ]
  },
  {
   "cell_type": "code",
   "execution_count": null,
   "metadata": {},
   "outputs": [],
   "source": [
    "{\n",
    "  \"type\": \"TypingTransform\",\n",
    "  \"name\": \"apply green_tripdata/0 data types\",\n",
    "  \"environments\": [\"production\", \"test\"],\n",
    "  \"inputURI\": ${ETL_CONF_BASE_URL}\"/meta/green_tripdata/0/green_tripdata.json\",\n",
    "  \"inputView\": \"green_tripdata0_raw\",            \n",
    "  \"outputView\": \"green_tripdata0\",\n",
    "  \"persist\": true\n",
    "}"
   ]
  },
  {
   "cell_type": "code",
   "execution_count": null,
   "metadata": {},
   "outputs": [],
   "source": [
    "{\n",
    "  \"type\": \"SQLValidate\",\n",
    "  \"name\": \"ensure no errors exist after data typing\",\n",
    "  \"environments\": [\"production\", \"test\"],\n",
    "  \"inputURI\": ${ETL_CONF_BASE_URL}\"/job/4/sqlvalidate_errors.sql\",            \n",
    "  \"sqlParams\": {\n",
    "      \"table_name\": \"green_tripdata0\"\n",
    "  }\n",
    "}"
   ]
  },
  {
   "cell_type": "code",
   "execution_count": null,
   "metadata": {},
   "outputs": [],
   "source": [
    "{\n",
    "  \"type\": \"DelimitedExtract\",\n",
    "  \"name\": \"extract data from green_tripdata/1\",\n",
    "  \"environments\": [\"production\", \"test\"],\n",
    "  \"inputURI\": ${ETL_CONF_BASE_URL}\"/data/green_tripdata/1/*\",\n",
    "  \"outputView\": \"green_tripdata1_raw\",            \n",
    "  \"delimiter\": \"Comma\",\n",
    "  \"quote\": \"DoubleQuote\",\n",
    "  \"header\": true\n",
    "}"
   ]
  },
  {
   "cell_type": "code",
   "execution_count": null,
   "metadata": {},
   "outputs": [],
   "source": [
    "{\n",
    "  \"type\": \"TypingTransform\",\n",
    "  \"name\": \"apply green_tripdata/1 data types\",\n",
    "  \"environments\": [\"production\", \"test\"],\n",
    "  \"inputURI\": ${ETL_CONF_BASE_URL}\"/meta/green_tripdata/1/green_tripdata.json\",\n",
    "  \"inputView\": \"green_tripdata1_raw\",            \n",
    "  \"outputView\": \"green_tripdata1\",      \n",
    "  \"persist\": true\n",
    "}"
   ]
  },
  {
   "cell_type": "code",
   "execution_count": null,
   "metadata": {},
   "outputs": [],
   "source": [
    "{\n",
    "  \"type\": \"SQLValidate\",\n",
    "  \"name\": \"ensure no errors exist after data typing\",\n",
    "  \"environments\": [\"production\", \"test\"],\n",
    "  \"inputURI\": ${ETL_CONF_BASE_URL}\"/job/4/sqlvalidate_errors.sql\",            \n",
    "  \"sqlParams\": {\n",
    "      \"table_name\": \"green_tripdata1\"\n",
    "  }\n",
    "}"
   ]
  },
  {
   "cell_type": "code",
   "execution_count": null,
   "metadata": {},
   "outputs": [],
   "source": [
    "{\n",
    "  \"type\": \"DelimitedExtract\",\n",
    "  \"name\": \"extract data from green_tripdata/2\",\n",
    "  \"environments\": [\"production\", \"test\"],\n",
    "  \"inputURI\": ${ETL_CONF_BASE_URL}\"/data/green_tripdata/2/*\",\n",
    "  \"outputView\": \"green_tripdata2_raw\",            \n",
    "  \"delimiter\": \"Comma\",\n",
    "  \"quote\": \"DoubleQuote\",\n",
    "  \"header\": true\n",
    "}"
   ]
  },
  {
   "cell_type": "code",
   "execution_count": null,
   "metadata": {},
   "outputs": [],
   "source": [
    "{\n",
    "  \"type\": \"TypingTransform\",\n",
    "  \"name\": \"apply green_tripdata/2 data types\",\n",
    "  \"environments\": [\"production\", \"test\"],\n",
    "  \"inputURI\": ${ETL_CONF_BASE_URL}\"/meta/green_tripdata/2/green_tripdata.json\",\n",
    "  \"inputView\": \"green_tripdata2_raw\",            \n",
    "  \"outputView\": \"green_tripdata2\",     \n",
    "  \"persist\": true\n",
    "}"
   ]
  },
  {
   "cell_type": "code",
   "execution_count": null,
   "metadata": {},
   "outputs": [],
   "source": [
    "{\n",
    "  \"type\": \"SQLValidate\",\n",
    "  \"name\": \"ensure no errors exist after data typing\",\n",
    "  \"environments\": [\"production\", \"test\"],\n",
    "  \"inputURI\": ${ETL_CONF_BASE_URL}\"/job/4/sqlvalidate_errors.sql\",            \n",
    "  \"sqlParams\": {\n",
    "      \"table_name\": \"green_tripdata2\"\n",
    "  }\n",
    "}"
   ]
  },
  {
   "cell_type": "code",
   "execution_count": null,
   "metadata": {},
   "outputs": [],
   "source": [
    "{\n",
    "  \"type\": \"DelimitedExtract\",\n",
    "  \"name\": \"extract data from yellow_tripdata/0\",\n",
    "  \"environments\": [\"production\", \"test\"],\n",
    "  \"inputURI\": ${ETL_CONF_BASE_URL}\"/data/yellow_tripdata/0/*\",\n",
    "  \"outputView\": \"yellow_tripdata0_raw\",            \n",
    "  \"delimiter\": \"Comma\",\n",
    "  \"quote\": \"DoubleQuote\",\n",
    "  \"header\": true\n",
    "}"
   ]
  },
  {
   "cell_type": "code",
   "execution_count": null,
   "metadata": {},
   "outputs": [],
   "source": [
    "{\n",
    "  \"type\": \"TypingTransform\",\n",
    "  \"name\": \"apply yellow_tripdata/0 data types\",\n",
    "  \"environments\": [\"production\", \"test\"],\n",
    "  \"inputURI\": ${ETL_CONF_BASE_URL}\"/meta/yellow_tripdata/0/yellow_tripdata.json\",\n",
    "  \"inputView\": \"yellow_tripdata0_raw\",            \n",
    "  \"outputView\": \"yellow_tripdata0\",       \n",
    "  \"persist\": true\n",
    "}"
   ]
  },
  {
   "cell_type": "code",
   "execution_count": null,
   "metadata": {},
   "outputs": [],
   "source": [
    "{\n",
    "  \"type\": \"SQLValidate\",\n",
    "  \"name\": \"ensure no errors exist after data typing\",\n",
    "  \"environments\": [\"production\", \"test\"],\n",
    "  \"inputURI\": ${ETL_CONF_BASE_URL}\"/job/4/sqlvalidate_errors.sql\",            \n",
    "  \"sqlParams\": {\n",
    "      \"table_name\": \"yellow_tripdata0\"\n",
    "  }\n",
    "}"
   ]
  },
  {
   "cell_type": "code",
   "execution_count": null,
   "metadata": {},
   "outputs": [],
   "source": [
    "{\n",
    "  \"type\": \"DelimitedExtract\",\n",
    "  \"name\": \"extract data from yellow_tripdata/1\",\n",
    "  \"environments\": [\"production\", \"test\"],\n",
    "  \"inputURI\": ${ETL_CONF_BASE_URL}\"/data/yellow_tripdata/1/*\",\n",
    "  \"outputView\": \"yellow_tripdata1_raw\",            \n",
    "  \"delimiter\": \"Comma\",\n",
    "  \"quote\": \"DoubleQuote\",\n",
    "  \"header\": true\n",
    "}"
   ]
  },
  {
   "cell_type": "code",
   "execution_count": null,
   "metadata": {},
   "outputs": [],
   "source": [
    "{\n",
    "  \"type\": \"TypingTransform\",\n",
    "  \"name\": \"apply yellow_tripdata/1 data types\",\n",
    "  \"environments\": [\"production\", \"test\"],\n",
    "  \"inputURI\": ${ETL_CONF_BASE_URL}\"/meta/yellow_tripdata/1/yellow_tripdata.json\",\n",
    "  \"inputView\": \"yellow_tripdata1_raw\",            \n",
    "  \"outputView\": \"yellow_tripdata1\",   \n",
    "  \"persist\": true\n",
    "}"
   ]
  },
  {
   "cell_type": "code",
   "execution_count": null,
   "metadata": {},
   "outputs": [],
   "source": [
    "{\n",
    "  \"type\": \"SQLValidate\",\n",
    "  \"name\": \"ensure no errors exist after data typing\",\n",
    "  \"environments\": [\"production\", \"test\"],\n",
    "  \"inputURI\": ${ETL_CONF_BASE_URL}\"/job/4/sqlvalidate_errors.sql\",            \n",
    "  \"sqlParams\": {\n",
    "      \"table_name\": \"yellow_tripdata1\"\n",
    "  }\n",
    "}"
   ]
  },
  {
   "cell_type": "code",
   "execution_count": null,
   "metadata": {},
   "outputs": [],
   "source": [
    "{\n",
    "  \"type\": \"DelimitedExtract\",\n",
    "  \"name\": \"extract data from yellow_tripdata/2\",\n",
    "  \"environments\": [\"production\", \"test\"],\n",
    "  \"inputURI\": ${ETL_CONF_BASE_URL}\"/data/yellow_tripdata/2/*\",\n",
    "  \"outputView\": \"yellow_tripdata2_raw\",            \n",
    "  \"delimiter\": \"Comma\",\n",
    "  \"quote\": \"DoubleQuote\",\n",
    "  \"header\": true\n",
    "}"
   ]
  },
  {
   "cell_type": "code",
   "execution_count": null,
   "metadata": {},
   "outputs": [],
   "source": [
    "{\n",
    "  \"type\": \"TypingTransform\",\n",
    "  \"name\": \"apply yellow_tripdata/2 data types\",\n",
    "  \"environments\": [\"production\", \"test\"],\n",
    "  \"inputURI\": ${ETL_CONF_BASE_URL}\"/meta/yellow_tripdata/2/yellow_tripdata.json\",\n",
    "  \"inputView\": \"yellow_tripdata2_raw\",            \n",
    "  \"outputView\": \"yellow_tripdata2\",\n",
    "  \"persist\": true\n",
    "}"
   ]
  },
  {
   "cell_type": "code",
   "execution_count": null,
   "metadata": {},
   "outputs": [],
   "source": [
    "{\n",
    "  \"type\": \"SQLValidate\",\n",
    "  \"name\": \"ensure no errors exist after data typing\",\n",
    "  \"environments\": [\"production\", \"test\"],\n",
    "  \"inputURI\": ${ETL_CONF_BASE_URL}\"/job/4/sqlvalidate_errors.sql\",            \n",
    "  \"sqlParams\": {\n",
    "      \"table_name\": \"yellow_tripdata2\"\n",
    "  }\n",
    "}"
   ]
  },
  {
   "cell_type": "code",
   "execution_count": null,
   "metadata": {},
   "outputs": [],
   "source": [
    "{\n",
    "  \"type\": \"DelimitedExtract\",\n",
    "  \"name\": \"extract data from uber_tripdata/0\",\n",
    "  \"environments\": [\"production\", \"test\"],\n",
    "  \"inputURI\": ${ETL_CONF_BASE_URL}\"/data/uber_tripdata/0/*\",\n",
    "  \"outputView\": \"uber_tripdata0_raw\",            \n",
    "  \"delimiter\": \"Comma\",\n",
    "  \"quote\": \"DoubleQuote\",\n",
    "  \"header\": true\n",
    "}"
   ]
  },
  {
   "cell_type": "code",
   "execution_count": null,
   "metadata": {},
   "outputs": [],
   "source": [
    "{\n",
    "  \"type\": \"TypingTransform\",\n",
    "  \"name\": \"apply uber_tripdata/0 data types\",\n",
    "  \"environments\": [\"production\", \"test\"],\n",
    "  \"inputURI\": ${ETL_CONF_BASE_URL}\"/meta/uber_tripdata/0/uber_tripdata.json\",\n",
    "  \"inputView\": \"uber_tripdata0_raw\",            \n",
    "  \"outputView\": \"uber_tripdata0\",   \n",
    "  \"persist\": true\n",
    "}"
   ]
  },
  {
   "cell_type": "code",
   "execution_count": null,
   "metadata": {},
   "outputs": [],
   "source": [
    "{\n",
    "  \"type\": \"SQLValidate\",\n",
    "  \"name\": \"ensure no errors exist after data typing\",\n",
    "  \"environments\": [\"production\", \"test\"],\n",
    "  \"inputURI\": ${ETL_CONF_BASE_URL}\"/job/4/sqlvalidate_errors.sql\",            \n",
    "  \"sqlParams\": {\n",
    "      \"table_name\": \"uber_tripdata0\"\n",
    "  }\n",
    "}"
   ]
  },
  {
   "cell_type": "code",
   "execution_count": null,
   "metadata": {},
   "outputs": [],
   "source": [
    "{\n",
    "  \"type\": \"DelimitedExtract\",\n",
    "  \"name\": \"extract data from uber_tripdata/1\",\n",
    "  \"environments\": [\"production\", \"test\"],\n",
    "  \"inputURI\": ${ETL_CONF_BASE_URL}\"/data/uber_tripdata/1/*\",\n",
    "  \"schemaURI\": ${ETL_CONF_BASE_URL}\"/meta/uber_tripdata/1/uber_tripdata.json\",\n",
    "  \"outputView\": \"uber_tripdata1_raw\",            \n",
    "  \"delimiter\": \"Comma\",\n",
    "  \"quote\": \"DoubleQuote\",\n",
    "  \"header\": true\n",
    "}"
   ]
  },
  {
   "cell_type": "code",
   "execution_count": null,
   "metadata": {},
   "outputs": [],
   "source": [
    "{\n",
    "  \"type\": \"TypingTransform\",\n",
    "  \"name\": \"apply uber_tripdata/1 data types\",\n",
    "  \"environments\": [\"production\", \"test\"],\n",
    "  \"inputURI\": ${ETL_CONF_BASE_URL}\"/meta/uber_tripdata/1/uber_tripdata.json\",\n",
    "  \"inputView\": \"uber_tripdata1_raw\",            \n",
    "  \"outputView\": \"uber_tripdata1\",   \n",
    "  \"persist\": true\n",
    "}"
   ]
  },
  {
   "cell_type": "code",
   "execution_count": null,
   "metadata": {},
   "outputs": [],
   "source": [
    "{\n",
    "  \"type\": \"SQLValidate\",\n",
    "  \"name\": \"ensure no errors exist after data typing\",\n",
    "  \"environments\": [\"production\", \"test\"],\n",
    "  \"inputURI\": ${ETL_CONF_BASE_URL}\"/job/4/sqlvalidate_errors.sql\",            \n",
    "  \"sqlParams\": {\n",
    "      \"table_name\": \"uber_tripdata1\"\n",
    "  }\n",
    "}"
   ]
  },
  {
   "cell_type": "code",
   "execution_count": null,
   "metadata": {},
   "outputs": [],
   "source": [
    "{\n",
    "  \"type\": \"JSONExtract\",\n",
    "  \"name\": \"load payment_type_id reference table\",\n",
    "  \"environments\": [\"production\", \"test\"],\n",
    "  \"inputURI\": ${ETL_CONF_BASE_URL}\"/data/reference/payment_type_id.json\",\n",
    "  \"outputView\": \"payment_type_id\",            \n",
    "  \"persist\": true,\n",
    "  \"multiLine\": false\n",
    "}"
   ]
  },
  {
   "cell_type": "code",
   "execution_count": null,
   "metadata": {},
   "outputs": [],
   "source": [
    "{\n",
    "  \"type\": \"JSONExtract\",\n",
    "  \"name\": \"load cab_type_id reference table\",\n",
    "  \"environments\": [\"production\", \"test\"],\n",
    "  \"inputURI\": ${ETL_CONF_BASE_URL}\"/data/reference/cab_type_id.json\",\n",
    "  \"outputView\": \"cab_type_id\",            \n",
    "  \"persist\": true,\n",
    "  \"multiLine\": false\n",
    "}"
   ]
  },
  {
   "cell_type": "code",
   "execution_count": null,
   "metadata": {},
   "outputs": [],
   "source": [
    "{\n",
    "  \"type\": \"JSONExtract\",\n",
    "  \"name\": \"load vendor_id reference table\",\n",
    "  \"environments\": [\"production\", \"test\"],\n",
    "  \"inputURI\": ${ETL_CONF_BASE_URL}\"/data/reference/vendor_id.json\",\n",
    "  \"outputView\": \"vendor_id\",            \n",
    "  \"persist\": true,\n",
    "  \"multiLine\": false\n",
    "}"
   ]
  },
  {
   "cell_type": "code",
   "execution_count": null,
   "metadata": {},
   "outputs": [],
   "source": [
    "{\n",
    "  \"type\": \"SQLTransform\",\n",
    "  \"name\": \"perform lookups for yellow_tripdata0 reference tables\",\n",
    "  \"environments\": [\"production\", \"test\"],\n",
    "  \"inputURI\": ${ETL_CONF_BASE_URL}\"/job/4/yellow_tripdata0_enrich.sql\",\n",
    "  \"outputView\": \"yellow_tripdata0_enriched\",            \n",
    "  \"persist\": true\n",
    "}"
   ]
  },
  {
   "cell_type": "code",
   "execution_count": null,
   "metadata": {},
   "outputs": [],
   "source": [
    "{\n",
    "  \"type\": \"SQLValidate\",\n",
    "  \"name\": \"ensure that yellow_tripdata0 reference table lookups were successful\",\n",
    "  \"environments\": [\"production\", \"test\"],\n",
    "  \"inputURI\": ${ETL_CONF_BASE_URL}\"/job/4/yellow_tripdata0_enrich_validate.sql\"\n",
    "}"
   ]
  },
  {
   "cell_type": "code",
   "execution_count": null,
   "metadata": {},
   "outputs": [],
   "source": [
    "{\n",
    "  \"type\": \"SQLTransform\",\n",
    "  \"name\": \"merge green_tripdata_* to create a full trips\",\n",
    "  \"environments\": [\"production\", \"test\"],\n",
    "  \"inputURI\": ${ETL_CONF_BASE_URL}\"/job/4/trips.sql\",\n",
    "  \"outputView\": \"trips\",            \n",
    "  \"persist\": true\n",
    "}"
   ]
  }
 ],
 "metadata": {
  "kernelspec": {
   "display_name": "Arc",
   "language": "javascript",
   "name": "arc"
  },
  "language_info": {
   "file_extension": "arc",
   "mimetype": "text/arc",
   "name": "arc",
   "nbconvert_exporter": "text",
   "version": "1.0"
  }
 },
 "nbformat": 4,
 "nbformat_minor": 2
}
