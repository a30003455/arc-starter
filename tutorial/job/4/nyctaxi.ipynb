{
 "cells": [
  {
   "cell_type": "code",
   "execution_count": null,
   "metadata": {
    "ExecuteTime": {
     "end_time": "2019-05-21T05:10:46.714054Z",
     "start_time": "2019-05-21T05:10:43.700Z"
    }
   },
   "outputs": [],
   "source": [
    "%env ETL_CONF_BASE_URL=/home/jovyan/tutorial"
   ]
  },
  {
   "cell_type": "code",
   "execution_count": null,
   "metadata": {
    "ExecuteTime": {
     "end_time": "2019-05-21T05:10:55.697886Z",
     "start_time": "2019-05-21T05:10:43.704Z"
    }
   },
   "outputs": [],
   "source": [
    "{\n",
    "  \"type\": \"DelimitedExtract\",\n",
    "  \"name\": \"extract data from green_tripdata/0\",\n",
    "  \"environments\": [\"production\", \"test\"],\n",
    "  \"inputURI\": ${ETL_CONF_BASE_URL}\"/data/green_tripdata/0/*.csv\",\n",
    "  \"outputView\": \"green_tripdata0_raw\",            \n",
    "  \"delimiter\": \"Comma\",\n",
    "  \"quote\": \"DoubleQuote\",\n",
    "  \"header\": true\n",
    "}"
   ]
  },
  {
   "cell_type": "code",
   "execution_count": null,
   "metadata": {
    "ExecuteTime": {
     "end_time": "2019-05-21T05:11:01.285580Z",
     "start_time": "2019-05-21T05:10:43.707Z"
    }
   },
   "outputs": [],
   "source": [
    "{\n",
    "  \"type\": \"TypingTransform\",\n",
    "  \"name\": \"apply green_tripdata/0 data types\",\n",
    "  \"environments\": [\"production\", \"test\"],\n",
    "  \"inputURI\": ${ETL_CONF_BASE_URL}\"/meta/green_tripdata/0/green_tripdata.json\",\n",
    "  \"inputView\": \"green_tripdata0_raw\",            \n",
    "  \"outputView\": \"green_tripdata0\",\n",
    "  \"persist\": true\n",
    "}"
   ]
  },
  {
   "cell_type": "code",
   "execution_count": null,
   "metadata": {
    "ExecuteTime": {
     "end_time": "2019-05-21T05:11:03.921611Z",
     "start_time": "2019-05-21T05:10:43.708Z"
    }
   },
   "outputs": [],
   "source": [
    "{\n",
    "  \"type\": \"SQLValidate\",\n",
    "  \"name\": \"ensure no errors exist after data typing\",\n",
    "  \"environments\": [\"production\", \"test\"],\n",
    "  \"inputURI\": ${ETL_CONF_BASE_URL}\"/job/4/sqlvalidate_errors.sql\",            \n",
    "  \"sqlParams\": {\n",
    "      \"table_name\": \"green_tripdata0\"\n",
    "  }\n",
    "}"
   ]
  },
  {
   "cell_type": "code",
   "execution_count": null,
   "metadata": {
    "ExecuteTime": {
     "end_time": "2019-05-21T05:11:05.144823Z",
     "start_time": "2019-05-21T05:10:43.711Z"
    }
   },
   "outputs": [],
   "source": [
    "{\n",
    "  \"type\": \"DelimitedExtract\",\n",
    "  \"name\": \"extract data from green_tripdata/1\",\n",
    "  \"environments\": [\"production\", \"test\"],\n",
    "  \"inputURI\": ${ETL_CONF_BASE_URL}\"/data/green_tripdata/1/*.csv\",\n",
    "  \"outputView\": \"green_tripdata1_raw\",            \n",
    "  \"delimiter\": \"Comma\",\n",
    "  \"quote\": \"DoubleQuote\",\n",
    "  \"header\": true\n",
    "}"
   ]
  },
  {
   "cell_type": "code",
   "execution_count": null,
   "metadata": {
    "ExecuteTime": {
     "end_time": "2019-05-21T05:11:08.444852Z",
     "start_time": "2019-05-21T05:10:43.713Z"
    }
   },
   "outputs": [],
   "source": [
    "{\n",
    "  \"type\": \"TypingTransform\",\n",
    "  \"name\": \"apply green_tripdata/1 data types\",\n",
    "  \"environments\": [\"production\", \"test\"],\n",
    "  \"inputURI\": ${ETL_CONF_BASE_URL}\"/meta/green_tripdata/1/green_tripdata.json\",\n",
    "  \"inputView\": \"green_tripdata1_raw\",            \n",
    "  \"outputView\": \"green_tripdata1\",      \n",
    "  \"persist\": true\n",
    "}"
   ]
  },
  {
   "cell_type": "code",
   "execution_count": null,
   "metadata": {
    "ExecuteTime": {
     "end_time": "2019-05-21T05:11:09.979534Z",
     "start_time": "2019-05-21T05:10:43.716Z"
    }
   },
   "outputs": [],
   "source": [
    "{\n",
    "  \"type\": \"SQLValidate\",\n",
    "  \"name\": \"ensure no errors exist after data typing\",\n",
    "  \"environments\": [\"production\", \"test\"],\n",
    "  \"inputURI\": ${ETL_CONF_BASE_URL}\"/job/4/sqlvalidate_errors.sql\",            \n",
    "  \"sqlParams\": {\n",
    "      \"table_name\": \"green_tripdata1\"\n",
    "  }\n",
    "}"
   ]
  },
  {
   "cell_type": "code",
   "execution_count": null,
   "metadata": {
    "ExecuteTime": {
     "end_time": "2019-05-21T05:11:11.146814Z",
     "start_time": "2019-05-21T05:10:43.718Z"
    }
   },
   "outputs": [],
   "source": [
    "{\n",
    "  \"type\": \"DelimitedExtract\",\n",
    "  \"name\": \"extract data from green_tripdata/2\",\n",
    "  \"environments\": [\"production\", \"test\"],\n",
    "  \"inputURI\": ${ETL_CONF_BASE_URL}\"/data/green_tripdata/2/*.csv\",\n",
    "  \"outputView\": \"green_tripdata2_raw\",            \n",
    "  \"delimiter\": \"Comma\",\n",
    "  \"quote\": \"DoubleQuote\",\n",
    "  \"header\": true\n",
    "}"
   ]
  },
  {
   "cell_type": "code",
   "execution_count": null,
   "metadata": {
    "ExecuteTime": {
     "end_time": "2019-05-21T05:11:13.885215Z",
     "start_time": "2019-05-21T05:10:43.720Z"
    }
   },
   "outputs": [],
   "source": [
    "{\n",
    "  \"type\": \"TypingTransform\",\n",
    "  \"name\": \"apply green_tripdata/2 data types\",\n",
    "  \"environments\": [\"production\", \"test\"],\n",
    "  \"inputURI\": ${ETL_CONF_BASE_URL}\"/meta/green_tripdata/2/green_tripdata.json\",\n",
    "  \"inputView\": \"green_tripdata2_raw\",            \n",
    "  \"outputView\": \"green_tripdata2\",     \n",
    "  \"persist\": true\n",
    "}"
   ]
  },
  {
   "cell_type": "code",
   "execution_count": null,
   "metadata": {
    "ExecuteTime": {
     "end_time": "2019-05-21T05:11:15.316542Z",
     "start_time": "2019-05-21T05:10:43.721Z"
    }
   },
   "outputs": [],
   "source": [
    "{\n",
    "  \"type\": \"SQLValidate\",\n",
    "  \"name\": \"ensure no errors exist after data typing\",\n",
    "  \"environments\": [\"production\", \"test\"],\n",
    "  \"inputURI\": ${ETL_CONF_BASE_URL}\"/job/4/sqlvalidate_errors.sql\",            \n",
    "  \"sqlParams\": {\n",
    "      \"table_name\": \"green_tripdata2\"\n",
    "  }\n",
    "}"
   ]
  },
  {
   "cell_type": "code",
   "execution_count": null,
   "metadata": {
    "ExecuteTime": {
     "end_time": "2019-05-21T05:11:16.037177Z",
     "start_time": "2019-05-21T05:10:43.724Z"
    }
   },
   "outputs": [],
   "source": [
    "{\n",
    "  \"type\": \"DelimitedExtract\",\n",
    "  \"name\": \"extract data from yellow_tripdata/0\",\n",
    "  \"environments\": [\"production\", \"test\"],\n",
    "  \"inputURI\": ${ETL_CONF_BASE_URL}\"/data/yellow_tripdata/0/*.csv\",\n",
    "  \"outputView\": \"yellow_tripdata0_raw\",            \n",
    "  \"delimiter\": \"Comma\",\n",
    "  \"quote\": \"DoubleQuote\",\n",
    "  \"header\": true\n",
    "}"
   ]
  },
  {
   "cell_type": "code",
   "execution_count": null,
   "metadata": {
    "ExecuteTime": {
     "end_time": "2019-05-21T05:11:18.569953Z",
     "start_time": "2019-05-21T05:10:43.726Z"
    }
   },
   "outputs": [],
   "source": [
    "{\n",
    "  \"type\": \"TypingTransform\",\n",
    "  \"name\": \"apply yellow_tripdata/0 data types\",\n",
    "  \"environments\": [\"production\", \"test\"],\n",
    "  \"inputURI\": ${ETL_CONF_BASE_URL}\"/meta/yellow_tripdata/0/yellow_tripdata.json\",\n",
    "  \"inputView\": \"yellow_tripdata0_raw\",            \n",
    "  \"outputView\": \"yellow_tripdata0\",       \n",
    "  \"persist\": true\n",
    "}"
   ]
  },
  {
   "cell_type": "code",
   "execution_count": null,
   "metadata": {
    "ExecuteTime": {
     "end_time": "2019-05-21T05:11:19.911939Z",
     "start_time": "2019-05-21T05:10:43.728Z"
    }
   },
   "outputs": [],
   "source": [
    "{\n",
    "  \"type\": \"SQLValidate\",\n",
    "  \"name\": \"ensure no errors exist after data typing\",\n",
    "  \"environments\": [\"production\", \"test\"],\n",
    "  \"inputURI\": ${ETL_CONF_BASE_URL}\"/job/4/sqlvalidate_errors.sql\",            \n",
    "  \"sqlParams\": {\n",
    "      \"table_name\": \"yellow_tripdata0\"\n",
    "  }\n",
    "}"
   ]
  },
  {
   "cell_type": "code",
   "execution_count": null,
   "metadata": {
    "ExecuteTime": {
     "end_time": "2019-05-21T05:11:20.790381Z",
     "start_time": "2019-05-21T05:10:43.729Z"
    }
   },
   "outputs": [],
   "source": [
    "{\n",
    "  \"type\": \"DelimitedExtract\",\n",
    "  \"name\": \"extract data from yellow_tripdata/1\",\n",
    "  \"environments\": [\"production\", \"test\"],\n",
    "  \"inputURI\": ${ETL_CONF_BASE_URL}\"/data/yellow_tripdata/1/*.csv\",\n",
    "  \"outputView\": \"yellow_tripdata1_raw\",            \n",
    "  \"delimiter\": \"Comma\",\n",
    "  \"quote\": \"DoubleQuote\",\n",
    "  \"header\": true\n",
    "}"
   ]
  },
  {
   "cell_type": "code",
   "execution_count": null,
   "metadata": {
    "ExecuteTime": {
     "end_time": "2019-05-21T05:11:23.644650Z",
     "start_time": "2019-05-21T05:10:43.732Z"
    }
   },
   "outputs": [],
   "source": [
    "{\n",
    "  \"type\": \"TypingTransform\",\n",
    "  \"name\": \"apply yellow_tripdata/1 data types\",\n",
    "  \"environments\": [\"production\", \"test\"],\n",
    "  \"inputURI\": ${ETL_CONF_BASE_URL}\"/meta/yellow_tripdata/1/yellow_tripdata.json\",\n",
    "  \"inputView\": \"yellow_tripdata1_raw\",            \n",
    "  \"outputView\": \"yellow_tripdata1\",   \n",
    "  \"persist\": true\n",
    "}"
   ]
  },
  {
   "cell_type": "code",
   "execution_count": null,
   "metadata": {
    "ExecuteTime": {
     "end_time": "2019-05-21T05:11:25.109880Z",
     "start_time": "2019-05-21T05:10:43.736Z"
    }
   },
   "outputs": [],
   "source": [
    "{\n",
    "  \"type\": \"SQLValidate\",\n",
    "  \"name\": \"ensure no errors exist after data typing\",\n",
    "  \"environments\": [\"production\", \"test\"],\n",
    "  \"inputURI\": ${ETL_CONF_BASE_URL}\"/job/4/sqlvalidate_errors.sql\",            \n",
    "  \"sqlParams\": {\n",
    "      \"table_name\": \"yellow_tripdata1\"\n",
    "  }\n",
    "}"
   ]
  },
  {
   "cell_type": "code",
   "execution_count": null,
   "metadata": {
    "ExecuteTime": {
     "end_time": "2019-05-21T05:11:25.991725Z",
     "start_time": "2019-05-21T05:10:43.738Z"
    }
   },
   "outputs": [],
   "source": [
    "{\n",
    "  \"type\": \"DelimitedExtract\",\n",
    "  \"name\": \"extract data from yellow_tripdata/2\",\n",
    "  \"environments\": [\"production\", \"test\"],\n",
    "  \"inputURI\": ${ETL_CONF_BASE_URL}\"/data/yellow_tripdata/2/*.csv\",\n",
    "  \"outputView\": \"yellow_tripdata2_raw\",            \n",
    "  \"delimiter\": \"Comma\",\n",
    "  \"quote\": \"DoubleQuote\",\n",
    "  \"header\": true\n",
    "}"
   ]
  },
  {
   "cell_type": "code",
   "execution_count": null,
   "metadata": {
    "ExecuteTime": {
     "end_time": "2019-05-21T05:11:28.777803Z",
     "start_time": "2019-05-21T05:10:43.740Z"
    }
   },
   "outputs": [],
   "source": [
    "{\n",
    "  \"type\": \"TypingTransform\",\n",
    "  \"name\": \"apply yellow_tripdata/2 data types\",\n",
    "  \"environments\": [\"production\", \"test\"],\n",
    "  \"inputURI\": ${ETL_CONF_BASE_URL}\"/meta/yellow_tripdata/2/yellow_tripdata.json\",\n",
    "  \"inputView\": \"yellow_tripdata2_raw\",            \n",
    "  \"outputView\": \"yellow_tripdata2\",\n",
    "  \"persist\": true\n",
    "}"
   ]
  },
  {
   "cell_type": "code",
   "execution_count": null,
   "metadata": {
    "ExecuteTime": {
     "end_time": "2019-05-21T05:11:29.984808Z",
     "start_time": "2019-05-21T05:10:43.742Z"
    }
   },
   "outputs": [],
   "source": [
    "{\n",
    "  \"type\": \"SQLValidate\",\n",
    "  \"name\": \"ensure no errors exist after data typing\",\n",
    "  \"environments\": [\"production\", \"test\"],\n",
    "  \"inputURI\": ${ETL_CONF_BASE_URL}\"/job/4/sqlvalidate_errors.sql\",            \n",
    "  \"sqlParams\": {\n",
    "      \"table_name\": \"yellow_tripdata2\"\n",
    "  }\n",
    "}"
   ]
  },
  {
   "cell_type": "code",
   "execution_count": null,
   "metadata": {
    "ExecuteTime": {
     "end_time": "2019-05-21T05:11:30.892853Z",
     "start_time": "2019-05-21T05:10:43.744Z"
    }
   },
   "outputs": [],
   "source": [
    "{\n",
    "  \"type\": \"DelimitedExtract\",\n",
    "  \"name\": \"extract data from uber_tripdata/0\",\n",
    "  \"environments\": [\"production\", \"test\"],\n",
    "  \"inputURI\": ${ETL_CONF_BASE_URL}\"/data/uber_tripdata/0/*.csv\",\n",
    "  \"outputView\": \"uber_tripdata0_raw\",            \n",
    "  \"delimiter\": \"Comma\",\n",
    "  \"quote\": \"DoubleQuote\",\n",
    "  \"header\": true\n",
    "}"
   ]
  },
  {
   "cell_type": "code",
   "execution_count": null,
   "metadata": {
    "ExecuteTime": {
     "end_time": "2019-05-21T05:11:33.031443Z",
     "start_time": "2019-05-21T05:10:43.746Z"
    }
   },
   "outputs": [],
   "source": [
    "{\n",
    "  \"type\": \"TypingTransform\",\n",
    "  \"name\": \"apply uber_tripdata/0 data types\",\n",
    "  \"environments\": [\"production\", \"test\"],\n",
    "  \"inputURI\": ${ETL_CONF_BASE_URL}\"/meta/uber_tripdata/0/uber_tripdata.json\",\n",
    "  \"inputView\": \"uber_tripdata0_raw\",            \n",
    "  \"outputView\": \"uber_tripdata0\",   \n",
    "  \"persist\": true\n",
    "}"
   ]
  },
  {
   "cell_type": "code",
   "execution_count": null,
   "metadata": {
    "ExecuteTime": {
     "end_time": "2019-05-21T05:11:34.121782Z",
     "start_time": "2019-05-21T05:10:43.750Z"
    }
   },
   "outputs": [],
   "source": [
    "{\n",
    "  \"type\": \"SQLValidate\",\n",
    "  \"name\": \"ensure no errors exist after data typing\",\n",
    "  \"environments\": [\"production\", \"test\"],\n",
    "  \"inputURI\": ${ETL_CONF_BASE_URL}\"/job/4/sqlvalidate_errors.sql\",            \n",
    "  \"sqlParams\": {\n",
    "      \"table_name\": \"uber_tripdata0\"\n",
    "  }\n",
    "}"
   ]
  },
  {
   "cell_type": "code",
   "execution_count": null,
   "metadata": {
    "ExecuteTime": {
     "end_time": "2019-05-21T05:11:34.857431Z",
     "start_time": "2019-05-21T05:10:43.753Z"
    }
   },
   "outputs": [],
   "source": [
    "{\n",
    "  \"type\": \"DelimitedExtract\",\n",
    "  \"name\": \"extract data from uber_tripdata/1\",\n",
    "  \"environments\": [\"production\", \"test\"],\n",
    "  \"inputURI\": ${ETL_CONF_BASE_URL}\"/data/uber_tripdata/1/*.csv\",\n",
    "  \"schemaURI\": ${ETL_CONF_BASE_URL}\"/meta/uber_tripdata/1/uber_tripdata.json\",\n",
    "  \"outputView\": \"uber_tripdata1_raw\",            \n",
    "  \"delimiter\": \"Comma\",\n",
    "  \"quote\": \"DoubleQuote\",\n",
    "  \"header\": true\n",
    "}"
   ]
  },
  {
   "cell_type": "code",
   "execution_count": null,
   "metadata": {
    "ExecuteTime": {
     "end_time": "2019-05-21T05:11:36.480479Z",
     "start_time": "2019-05-21T05:10:43.754Z"
    }
   },
   "outputs": [],
   "source": [
    "{\n",
    "  \"type\": \"TypingTransform\",\n",
    "  \"name\": \"apply uber_tripdata/1 data types\",\n",
    "  \"environments\": [\"production\", \"test\"],\n",
    "  \"inputURI\": ${ETL_CONF_BASE_URL}\"/meta/uber_tripdata/1/uber_tripdata.json\",\n",
    "  \"inputView\": \"uber_tripdata1_raw\",            \n",
    "  \"outputView\": \"uber_tripdata1\",   \n",
    "  \"persist\": true\n",
    "}"
   ]
  },
  {
   "cell_type": "code",
   "execution_count": null,
   "metadata": {
    "ExecuteTime": {
     "end_time": "2019-05-21T05:11:37.674308Z",
     "start_time": "2019-05-21T05:10:43.756Z"
    }
   },
   "outputs": [],
   "source": [
    "{\n",
    "  \"type\": \"SQLValidate\",\n",
    "  \"name\": \"ensure no errors exist after data typing\",\n",
    "  \"environments\": [\"production\", \"test\"],\n",
    "  \"inputURI\": ${ETL_CONF_BASE_URL}\"/job/4/sqlvalidate_errors.sql\",            \n",
    "  \"sqlParams\": {\n",
    "      \"table_name\": \"uber_tripdata1\"\n",
    "  }\n",
    "}"
   ]
  },
  {
   "cell_type": "code",
   "execution_count": null,
   "metadata": {
    "ExecuteTime": {
     "end_time": "2019-05-21T05:11:59.608252Z",
     "start_time": "2019-05-21T05:11:57.988Z"
    }
   },
   "outputs": [],
   "source": [
    "{\n",
    "  \"type\": \"JSONExtract\",\n",
    "  \"name\": \"load payment_type_id reference table\",\n",
    "  \"environments\": [\"production\", \"test\"],\n",
    "  \"inputURI\": ${ETL_CONF_BASE_URL}\"/data/reference/payment_type_id.json\",\n",
    "  \"outputView\": \"payment_type_id\",            \n",
    "  \"persist\": true,\n",
    "  \"multiLine\": false\n",
    "}"
   ]
  },
  {
   "cell_type": "code",
   "execution_count": null,
   "metadata": {
    "ExecuteTime": {
     "end_time": "2019-05-21T05:12:10.466062Z",
     "start_time": "2019-05-21T05:12:09.011Z"
    }
   },
   "outputs": [],
   "source": [
    "{\n",
    "  \"type\": \"JSONExtract\",\n",
    "  \"name\": \"load cab_type_id reference table\",\n",
    "  \"environments\": [\"production\", \"test\"],\n",
    "  \"inputURI\": ${ETL_CONF_BASE_URL}\"/data/reference/cab_type_id.json\",\n",
    "  \"outputView\": \"cab_type_id\",            \n",
    "  \"persist\": true,\n",
    "  \"multiLine\": false\n",
    "}"
   ]
  },
  {
   "cell_type": "code",
   "execution_count": null,
   "metadata": {
    "ExecuteTime": {
     "end_time": "2019-05-21T05:12:16.691457Z",
     "start_time": "2019-05-21T05:12:15.283Z"
    }
   },
   "outputs": [],
   "source": [
    "{\n",
    "  \"type\": \"JSONExtract\",\n",
    "  \"name\": \"load vendor_id reference table\",\n",
    "  \"environments\": [\"production\", \"test\"],\n",
    "  \"inputURI\": ${ETL_CONF_BASE_URL}\"/data/reference/vendor_id.json\",\n",
    "  \"outputView\": \"vendor_id\",            \n",
    "  \"persist\": true,\n",
    "  \"multiLine\": false\n",
    "}"
   ]
  },
  {
   "cell_type": "code",
   "execution_count": null,
   "metadata": {
    "ExecuteTime": {
     "end_time": "2019-05-21T05:12:42.146232Z",
     "start_time": "2019-05-21T05:12:39.258Z"
    }
   },
   "outputs": [],
   "source": [
    "{\n",
    "  \"type\": \"SQLTransform\",\n",
    "  \"name\": \"perform lookups for yellow_tripdata0 reference tables\",\n",
    "  \"environments\": [\"production\", \"test\"],\n",
    "  \"inputURI\": ${ETL_CONF_BASE_URL}\"/job/4/yellow_tripdata0_enrich.sql\",\n",
    "  \"outputView\": \"yellow_tripdata0_enriched\",            \n",
    "  \"persist\": true\n",
    "}"
   ]
  },
  {
   "cell_type": "code",
   "execution_count": null,
   "metadata": {
    "ExecuteTime": {
     "end_time": "2019-05-21T05:13:49.952887Z",
     "start_time": "2019-05-21T05:13:46.491Z"
    }
   },
   "outputs": [],
   "source": [
    "{\n",
    "  \"type\": \"SQLValidate\",\n",
    "  \"name\": \"ensure that yellow_tripdata0 reference table lookups were successful\",\n",
    "  \"environments\": [\"production\", \"test\"],\n",
    "  \"inputURI\": ${ETL_CONF_BASE_URL}\"/job/4/yellow_tripdata0_enrich_validate.sql\"\n",
    "}"
   ]
  },
  {
   "cell_type": "code",
   "execution_count": null,
   "metadata": {
    "ExecuteTime": {
     "end_time": "2019-05-21T05:15:16.869583Z",
     "start_time": "2019-05-21T05:15:01.094Z"
    }
   },
   "outputs": [],
   "source": [
    "{\n",
    "  \"type\": \"SQLTransform\",\n",
    "  \"name\": \"merge green_tripdata_* to create a full trips\",\n",
    "  \"environments\": [\"production\", \"test\"],\n",
    "  \"inputURI\": ${ETL_CONF_BASE_URL}\"/job/4/trips.sql\",\n",
    "  \"outputView\": \"trips\",            \n",
    "  \"persist\": true\n",
    "}"
   ]
  }
 ],
 "metadata": {
  "kernelspec": {
   "display_name": "Arc",
   "language": "scala",
   "name": "arc"
  },
  "language_info": {
   "file_extension": "arc",
   "mimetype": "text/arc",
   "name": "arc",
   "nbconvert_exporter": "text",
   "version": "1.0"
  }
 },
 "nbformat": 4,
 "nbformat_minor": 2
}
