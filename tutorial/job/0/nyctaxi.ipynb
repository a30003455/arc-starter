{
 "cells": [
  {
   "cell_type": "code",
   "execution_count": null,
   "metadata": {
    "ExecuteTime": {
     "end_time": "2019-05-21T01:45:26.719114Z",
     "start_time": "2019-05-21T01:45:26.693Z"
    }
   },
   "outputs": [],
   "source": [
    "%env ETL_CONF_BASE_URL=/home/jovyan/tutorial"
   ]
  },
  {
   "cell_type": "code",
   "execution_count": null,
   "metadata": {
    "ExecuteTime": {
     "end_time": "2019-05-21T01:45:33.643338Z",
     "start_time": "2019-05-21T01:45:27.005Z"
    }
   },
   "outputs": [],
   "source": [
    "{\n",
    "  \"type\": \"DelimitedExtract\",\n",
    "  \"name\": \"extract data from green_tripdata/0\",\n",
    "  \"environments\": [\"production\", \"test\"],\n",
    "  \"inputURI\": ${ETL_CONF_BASE_URL}\"/data/green_tripdata/0/*.csv\",\n",
    "  \"outputView\": \"green_tripdata0_raw\",            \n",
    "  \"delimiter\": \"Comma\",\n",
    "  \"quote\" : \"DoubleQuote\",\n",
    "  \"header\": true\n",
    "}"
   ]
  },
  {
   "cell_type": "code",
   "execution_count": null,
   "metadata": {
    "ExecuteTime": {
     "end_time": "2019-05-21T01:56:22.922972Z",
     "start_time": "2019-05-21T01:56:21.001Z"
    }
   },
   "outputs": [],
   "source": [
    "{\n",
    "  \"type\": \"TypingTransform\",\n",
    "  \"name\": \"apply green_tripdata/0 data types\",\n",
    "  \"environments\": [\"production\", \"test\"],\n",
    "  \"inputURI\": ${ETL_CONF_BASE_URL}\"/meta/green_tripdata/0/green_tripdata.json\",\n",
    "  \"inputView\": \"green_tripdata0_raw\",            \n",
    "  \"outputView\": \"green_tripdata0\"       \n",
    "}"
   ]
  },
  {
   "cell_type": "code",
   "execution_count": null,
   "metadata": {
    "ExecuteTime": {
     "end_time": "2019-05-21T02:03:13.708115Z",
     "start_time": "2019-05-21T02:03:08.047Z"
    }
   },
   "outputs": [],
   "source": [
    "{\n",
    "  \"type\": \"SQLValidate\",\n",
    "  \"name\": \"ensure no errors exist after data typing\",\n",
    "  \"environments\": [\"production\", \"test\"],\n",
    "  \"inputURI\": ${ETL_CONF_BASE_URL}\"/job/0/sqlvalidate_errors.sql\",            \n",
    "  \"sqlParams\": {\n",
    "      \"table_name\": \"green_tripdata0\"\n",
    "  }\n",
    "}"
   ]
  }
 ],
 "metadata": {
  "kernelspec": {
   "display_name": "Arc",
   "language": "scala",
   "name": "arc"
  },
  "language_info": {
   "file_extension": "arc",
   "mimetype": "text/arc",
   "name": "arc",
   "nbconvert_exporter": "text",
   "version": "1.0"
  }
 },
 "nbformat": 4,
 "nbformat_minor": 2
}
