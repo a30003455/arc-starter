{
 "cells": [
  {
   "cell_type": "markdown",
   "metadata": {},
   "source": [
    "## This is a cell to allow users to document the logic\n",
    "It will not be used when creating the Arc job."
   ]
  },
  {
   "cell_type": "code",
   "execution_count": null,
   "metadata": {},
   "outputs": [],
   "source": [
    "{\n",
    "  \"type\": \"DelimitedExtract\",\n",
    "  \"name\": \"extract data from green_tripdata/0\",\n",
    "  \"environments\": [\n",
    "    \"production\",\n",
    "    \"test\"\n",
    "  ],\n",
    "  \"inputURI\": ${ETL_JOB_ROOT}\"/data/input/green_tripdata/0/green_tripdata_2013-08.csv\",\n",
    "  \"outputView\": \"green_tripdata0_raw\",\n",
    "  \"persist\": false,\n",
    "  \"delimiter\": \"Comma\",\n",
    "  \"quote\": \"DoubleQuote\",\n",
    "  \"header\": true,\n",
    "  \"authentication\": {},\n",
    "  \"params\": {}\n",
    "}"
   ]
  },
  {
   "cell_type": "code",
   "execution_count": null,
   "metadata": {},
   "outputs": [],
   "source": [
    "%%sql\n",
    "SELECT * \n",
    "FROM green_tripdata0_raw"
   ]
  },
  {
   "cell_type": "code",
   "execution_count": null,
   "metadata": {},
   "outputs": [],
   "source": [
    "{\n",
    "  \"type\": \"TypingTransform\",\n",
    "  \"name\": \"apply green_tripdata data types\",\n",
    "  \"environments\": [\n",
    "    \"production\",\n",
    "    \"test\"\n",
    "  ],\n",
    "  \"inputURI\": ${ETL_JOB_ROOT}\"/meta/green_tripdata/0/green_tripdata.json\",\n",
    "  \"inputView\": \"green_tripdata0_raw\",\n",
    "  \"outputView\": \"green_tripdata0\",\n",
    "  \"persist\": true,\n",
    "  \"authentication\": {},\n",
    "  \"params\": {}\n",
    "}"
   ]
  },
  {
   "cell_type": "code",
   "execution_count": null,
   "metadata": {},
   "outputs": [],
   "source": [
    "{\n",
    "  \"type\": \"SQLValidate\",\n",
    "  \"name\": \"ensure no errors exist after data typing\",\n",
    "  \"environments\": [\n",
    "    \"production\",\n",
    "    \"test\"\n",
    "  ],\n",
    "  \"inputURI\": ${ETL_JOB_ROOT}\"/job/0/sqlvalidate_errors.sql\",\n",
    "  \"sqlParams\": {\n",
    "    \"table_name\": \"green_tripdata0\"\n",
    "  },\n",
    "  \"authentication\": {},\n",
    "  \"params\": {}\n",
    "}"
   ]
  },
  {
   "cell_type": "code",
   "execution_count": null,
   "metadata": {},
   "outputs": [],
   "source": [
    "{\n",
    "  \"type\": \"SQLTransform\",\n",
    "  \"name\": \"enrich dataset by adding distance\",\n",
    "  \"environments\": [\n",
    "    \"production\",\n",
    "    \"test\"\n",
    "  ],\n",
    "  \"inputURI\": ${ETL_JOB_ROOT}\"/job/1/enrich_greentripdata0.sql\",\n",
    "  \"outputView\": \"green_tripdata0_enriched\",\n",
    "  \"persist\": true,\n",
    "  \"authentication\": {},\n",
    "  \"sqlParams\": {},\n",
    "  \"params\": {}\n",
    "}"
   ]
  },
  {
   "cell_type": "code",
   "execution_count": null,
   "metadata": {},
   "outputs": [],
   "source": [
    "{\n",
    "  \"type\": \"MLTransform\",\n",
    "  \"name\": \"apply machine learning model\",\n",
    "  \"environments\": [\n",
    "    \"production\",\n",
    "    \"test\"\n",
    "  ],\n",
    "  \"inputURI\": ${ETL_JOB_ROOT}\"/job/1/green_tripdata_enriched.model\",\n",
    "  \"inputView\": \"green_tripdata0_enriched\",\n",
    "  \"outputView\": \"green_tripdata0_prediction\",\n",
    "  \"persist\": false,\n",
    "  \"authentication\": {},\n",
    "  \"params\": {}\n",
    "}"
   ]
  },
  {
   "cell_type": "code",
   "execution_count": null,
   "metadata": {},
   "outputs": [],
   "source": [
    "{\n",
    "  \"type\": \"ParquetLoad\",\n",
    "  \"name\": \"write green_tripdata0_prediction records to parquet\",\n",
    "  \"environments\": [\n",
    "    \"production\",\n",
    "    \"test\"\n",
    "  ],\n",
    "  \"inputView\": \"green_tripdata0_prediction\",\n",
    "  \"outputURI\": ${ETL_JOB_ROOT}\"/data/output/green_tripdata0_prediction.parquet\",\n",
    "  \"numPartitions\": 4,\n",
    "  \"partitionBy\": [],\n",
    "  \"authentication\": {},\n",
    "  \"saveMode\": \"Overwrite\",\n",
    "  \"params\": {}\n",
    "}"
   ]
  },
  {
   "cell_type": "code",
   "execution_count": null,
   "metadata": {},
   "outputs": [],
   "source": []
  }
 ],
 "metadata": {
  "kernelspec": {
   "display_name": "Arc",
   "language": "scala",
   "name": "apache_toree_scala"
  },
  "language_info": {
   "codemirror_mode": "text/x-scala",
   "file_extension": ".scala",
   "mimetype": "text/x-scala",
   "name": "scala",
   "pygments_lexer": "scala",
   "version": "2.11.12"
  }
 },
 "nbformat": 4,
 "nbformat_minor": 2
}
